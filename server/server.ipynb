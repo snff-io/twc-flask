{
 "cells": [
  {
   "cell_type": "code",
   "execution_count": null,
   "metadata": {},
   "outputs": [],
   "source": [
    "import map\n",
    "import matplotlib.pyplot as plt\n",
    "\n",
    "da = map.DelaunayArea()\n",
    "da.calculate_delauanay(1440)\n",
    "da.calculate_barycenters()\n",
    "# plt.figure(figsize=(10.24, 10.24))\n",
    "# plt.scatter(da.barycenters[:, 0], da.barycenters[:, 1], s=0.01)\n",
    "# plt.xlabel('X')\n",
    "# plt.ylabel('Y')\n",
    "# plt.title('Barycenters')\n",
    "# plt.show()\n",
    "\n",
    "# n = da.get_area(500, 50)\n",
    "# plt.figure(figsize=(2, 2))\n",
    "# plt.scatter(n[:, 0],n[:, 1], s=1)\n",
    "# plt.xlabel('X')\n",
    "# plt.ylabel('Y')\n",
    "# plt.title('Scatter Plot of n')\n",
    "# plt.show()\n"
   ]
  },
  {
   "cell_type": "code",
   "execution_count": null,
   "metadata": {},
   "outputs": [],
   "source": [
    "\n",
    "\n",
    "em = map.EnergyMap(da.barycenters)\n",
    "\n",
    "energy_points = em.seed_energy()\n",
    "\n",
    "area = da.get_area(500, 10)\n",
    "for bc in area:\n",
    "    se = em.get_seed_energy(bc)\n",
    "    print(f\"{bc.X}{bc.Y}, {se.h.number}\")\n",
    " "
   ]
  },
  {
   "cell_type": "code",
   "execution_count": null,
   "metadata": {},
   "outputs": [],
   "source": [
    "import db_iching_class \n",
    "from colored import fg, bg, attr\n",
    "\n",
    "# Color text\n",
    "print('%s Hello World !' % fg('red'))\n",
    "\n",
    "# Color background\n",
    "print('%s Hello World !' % bg('green'))\n",
    "\n",
    "# Add attributes\n",
    "print('%s Hello World !' % attr('underline'))\n",
    "\n",
    "# Combine color and attributes\n",
    "print('%s%s Hello World !' % (fg('blue'), attr('bold')))\n",
    "\n",
    "\n",
    "\n",
    "# Reset all attributes\n",
    "print('%s Hello World !' % attr('reset'))\n",
    "\n",
    "\n",
    "for i in range(0x4DC0, 0x4DFF + 1):\n",
    "    print(chr(i))\n"
   ]
  },
  {
   "cell_type": "code",
   "execution_count": 4,
   "metadata": {},
   "outputs": [
    {
     "name": "stdout",
     "output_type": "stream",
     "text": [
      "[['48;2;7;6;14m䷍' '48;2;14;25;45m䷆' '48;2;11;12;28m䷥' ...\n",
      "  '48;2;206;146;83m䷥' '48;2;174;142;78m䷼' '48;2;159;110;69m䷄']\n",
      " ['48;2;174;107;75m䷖' '48;2;144;78;62m䷎' '48;2;116;77;70m䷹' ...\n",
      "  '48;2;14;20;41m䷽' '48;2;47;55;70m䷞' '48;2;15;27;52m䷐']\n",
      " ['48;2;20;45;73m䷼' '48;2;19;41;69m䷳' '48;2;20;46;77m䷁' ...\n",
      "  '48;2;104;24;27m䷍' '48;2;76;27;41m䷂' '48;2;88;39;47m䷠']\n",
      " ...\n",
      " ['' '' '' ... '' '' '']\n",
      " ['' '' '' ... '' '' '']\n",
      " ['' '' '' ... '' '' '']]\n"
     ]
    }
   ],
   "source": [
    "import numpy as np\n",
    "\n",
    "from db_iching_model import Hexagram\n",
    "\n",
    "# Read the file\n",
    "with open('map01.ans', 'r') as file:\n",
    "    data = file.read()\n",
    "\n",
    "# Split the data by '\\'\n",
    "lines = data.split('\\n')\n",
    "entries = []\n",
    "for l in lines:\n",
    "    for s in l.split('\\\\e['):\n",
    "        entries.append(s)\n",
    "\n",
    "# for l in lines:\n",
    "#     print(len(l))\n",
    "#\\e[38;2;12;24;55;48;2;10;24;53m▄\n",
    "\n",
    "# Create a 80x80 matrix\n",
    "matrix = np.zeros((80, 80), dtype='<U50')\n",
    "ematrix = np.zeros((80, 80), dtype='<U50')\n",
    "\n",
    "e=0\n",
    "# Fill the matrix with the data\n",
    "for i in range(25):\n",
    "    for j in range(80):\n",
    "        e = e+1\n",
    "        if (e >= len(entries)):\n",
    "            break\n",
    "        if (len(entries[e]) < 3):\n",
    "            continue\n",
    "        #print(e, i, j, entries[e])\n",
    "        en = entries[e][:-3].split(';')\n",
    "        val = np.sum([int(x) for x in en])\n",
    "        hg = Hexagram.unicode_hexagram_list(val % 64)\n",
    "        entry = entries[e].replace(\"  \", hg) \n",
    "        matrix[i,j] = entry\n",
    "        ematrix[i,j] = \"\\e[\" + entry\n",
    " \n",
    "\n",
    "# Print the matrix\n",
    "print(matrix)\n",
    "# Write the matrix to file\n",
    "with open('map_proc.ans', 'w') as file:\n",
    "    for row in matrix:\n",
    "        file.write(''.join(row) + '\\n')\n",
    "\n",
    "with open('map_proc.sh', 'w') as file:\n",
    "    file.write('printf \"')\n",
    "    for row in ematrix:\n",
    "        file.write(''.join(row) + '\\n')\n",
    "    file.write('\";')\n",
    "                \n"
   ]
  },
  {
   "cell_type": "code",
   "execution_count": null,
   "metadata": {},
   "outputs": [],
   "source": []
  }
 ],
 "metadata": {
  "kernelspec": {
   "display_name": "Python 3",
   "language": "python",
   "name": "python3"
  },
  "language_info": {
   "codemirror_mode": {
    "name": "ipython",
    "version": 3
   },
   "file_extension": ".py",
   "mimetype": "text/x-python",
   "name": "python",
   "nbconvert_exporter": "python",
   "pygments_lexer": "ipython3",
   "version": "3.9.2"
  }
 },
 "nbformat": 4,
 "nbformat_minor": 2
}
